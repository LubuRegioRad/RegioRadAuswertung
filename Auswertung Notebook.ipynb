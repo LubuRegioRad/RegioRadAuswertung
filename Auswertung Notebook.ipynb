{
 "cells": [
  {
   "cell_type": "markdown",
   "metadata": {},
   "source": [
    "1. Importieren der Bibliotheken und Laden der Daten\n",
    "Wir importieren die notwendigen Python-Bibliotheken für die Datenanalyse und Visualisierung und laden die Excel-Daten."
   ]
  },
  {
   "cell_type": "code",
   "execution_count": null,
   "metadata": {},
   "outputs": [],
   "source": [
    "import pandas as pd\n",
    "import matplotlib.pyplot as plt\n",
    "import matplotlib.dates as mdates\n",
    "import os\n",
    "\n",
    "# Laden der Excel-Daten\n",
    "data_excel_file_path = 'station_data_analysis.xlsx'\n",
    "\n",
    "if not os.path.exists(data_excel_file_path):\n",
    "    raise FileNotFoundError(f\"Die Datei {data_excel_file_path} wurde nicht gefunden.\")\n",
    "\n",
    "try:\n",
    "    station_data = pd.read_excel(data_excel_file_path, sheet_name='Station Status')\n",
    "    station_info = pd.read_excel(data_excel_file_path, sheet_name='Station Information')\n",
    "    vehicle_types = pd.read_excel(data_excel_file_path, sheet_name='Vehicle Types')\n",
    "    soll_werte = pd.read_excel(data_excel_file_path, sheet_name='Soll Werte')\n",
    "except Exception as e:\n",
    "    raise ValueError(f\"Fehler beim Laden der Excel-Datei: {e}\")\n",
    "\n",
    "# Definition der Lubus IDs\n",
    "lubu_ids = [\n",
    "    \"958219cd-8009-45b6-8a04-1cc4ae763307\",\n",
    "    \"714932fd-4836-4a2a-9a19-07a6d694274c\",\n",
    "    \"be796eb3-49af-494c-b3f0-dc1f0132eb7d\",\n",
    "    \"c070e40c-98f6-45d6-9543-90ceceef63af\",\n",
    "    \"ca41b63e-9046-442f-880e-d0e9186e507a\",\n",
    "    \"36fe6a30-d53e-4aa8-863d-e21e80fd1d0b\",\n",
    "    \"7046d131-47fd-40bd-ba63-f52590d2ee8f\",\n",
    "    \"2263b695-db35-4bbf-b70a-032920fadf3f\"\n",
    "]\n",
    "\n",
    "# Hilfsstrukturen erstellen\n",
    "id_to_name = pd.Series(station_info['name'].values, index=station_info['station_id']).to_dict()\n",
    "vehicle_type_mapping = vehicle_types.set_index('vehicle_type_id')['name'].to_dict()\n"
   ]
  },
  {
   "cell_type": "markdown",
   "metadata": {},
   "source": [
    "2. Funktion zur Extraktion der Fahrzeuganzahl <br>\n",
    "Diese Funktion extrahiert die Anzahl der Fahrzeuge eines bestimmten Typs an einer Station."
   ]
  },
  {
   "cell_type": "code",
   "execution_count": null,
   "metadata": {},
   "outputs": [],
   "source": [
    "def extract_vehicle_count(station_entries, vehicle_type_name):\n",
    "    counts = []\n",
    "    for entry in station_entries:\n",
    "        count = 0\n",
    "        if isinstance(entry, dict) and 'vehicle_data' in entry:\n",
    "            vehicle_data = entry['vehicle_data']\n",
    "            for vehicle in vehicle_data:\n",
    "                if vehicle_type_mapping.get(vehicle['vehicle_type_id']) == vehicle_type_name:\n",
    "                    count = vehicle['count']\n",
    "                    break\n",
    "        counts.append(count)\n",
    "    return counts\n"
   ]
  },
  {
   "cell_type": "markdown",
   "metadata": {},
   "source": [
    "3. Visualisierung für alle Stationen ohne Soll-Werte <br>\n",
    "Visualisieren der Verfügbarkeit der Fahrräder an allen Stationen über die Zeit ohne Soll-Werte."
   ]
  },
  {
   "cell_type": "code",
   "execution_count": null,
   "metadata": {},
   "outputs": [],
   "source": [
    "def visualize_all_stations_no_soll(bike_type='all'):\n",
    "    plt.figure(figsize=(12, 8))\n",
    "    plt.gca().xaxis.set_major_formatter(mdates.DateFormatter('%d-%m-%Y %H:%M'))\n",
    "    plt.gca().xaxis.set_major_locator(mdates.AutoDateLocator())\n",
    "    plt.gcf().autofmt_xdate()\n",
    "    \n",
    "    for station_id in lubu_ids:\n",
    "        if station_id in station_data['station_id'].values:\n",
    "            filtered_data = station_data[station_data['station_id'] == station_id].to_dict('records')\n",
    "            \n",
    "            if bike_type == 'all':\n",
    "                counts = [entry['num_bikes_available'] for entry in filtered_data]\n",
    "            else:\n",
    "                counts = extract_vehicle_count(filtered_data, bike_type)\n",
    "            \n",
    "            plt.plot([entry['timestamp'] for entry in filtered_data], counts, label=id_to_name[station_id])\n",
    "    \n",
    "    plt.title('Verfügbare Fahrräder an allen Stationen über Zeit (ohne Soll-Werte)')\n",
    "    plt.xlabel('Zeit')\n",
    "    plt.ylabel('Verfügbare Fahrräder')\n",
    "    plt.legend()\n",
    "    plt.tight_layout()\n",
    "    plt.show()\n",
    "\n",
    "# Aufruf zur Visualisierung für alle Stationen ohne Soll-Werte\n",
    "visualize_all_stations_no_soll(bike_type='all')"
   ]
  },
  {
   "cell_type": "markdown",
   "metadata": {},
   "source": [
    "4. Visualisierung für eine einzelne Station ohne Soll-Werte <br>\n",
    "Visualisieren der Verfügbarkeit der Fahrräder an einer einzelnen Station über die Zeit ohne Soll-Werte."
   ]
  },
  {
   "cell_type": "code",
   "execution_count": null,
   "metadata": {},
   "outputs": [],
   "source": [
    "def visualize_single_station_no_soll(station_id_requested, bike_type='all'):\n",
    "    plt.figure(figsize=(12, 8))\n",
    "    plt.gca().xaxis.set_major_formatter(mdates.DateFormatter('%d-%m-%Y %H:%M'))\n",
    "    plt.gca().xaxis.set_major_locator(mdates.AutoDateLocator())\n",
    "    plt.gcf().autofmt_xdate()\n",
    "\n",
    "    if station_id_requested in lubu_ids and station_id_requested in station_data['station_id'].values:\n",
    "        filtered_data = station_data[station_data['station_id'] == station_id_requested].to_dict('records')\n",
    "        \n",
    "        if bike_type == 'all':\n",
    "            counts = [entry['num_bikes_available'] for entry in filtered_data]\n",
    "        else:\n",
    "            counts = extract_vehicle_count(filtered_data, bike_type)\n",
    "        \n",
    "        plt.plot([entry['timestamp'] for entry in filtered_data], counts, label=id_to_name[station_id_requested])\n",
    "        plt.title(f'Verfügbare Fahrräder an Station {id_to_name[station_id_requested]} über Zeit (ohne Soll-Werte)')\n",
    "        plt.xlabel('Zeit')\n",
    "        plt.ylabel('Verfügbare Fahrräder')\n",
    "        plt.legend()\n",
    "        plt.tight_layout()\n",
    "        plt.show()\n",
    "    else:\n",
    "        print(f\"Keine Daten für Station ID {station_id_requested} gefunden.\")\n"
   ]
  },
  {
   "cell_type": "code",
   "execution_count": null,
   "metadata": {},
   "outputs": [],
   "source": [
    "# Reuteallee / S-Bahnstation Favoritepark\n",
    "visualize_single_station_no_soll('958219cd-8009-45b6-8a04-1cc4ae763307', bike_type='all')\n",
    "\n",
    "# Grönerstr. / Schlieffenstr.\n",
    "visualize_single_station_no_soll('714932fd-4836-4a2a-9a19-07a6d694274c', bike_type='all')\n",
    "\n",
    "# Kaiserstraße / Otto-Hahn-Gymnasium\n",
    "visualize_single_station_no_soll('be796eb3-49af-494c-b3f0-dc1f0132eb7d', bike_type='all')\n",
    "\n",
    "# Bahnhof Ludwigsburg / Brenzstr.\n",
    "visualize_single_station_no_soll('c070e40c-98f6-45d6-9543-90ceceef63af', bike_type='all')\n",
    "\n",
    "# Bahnhof. Ludwigsburg / Myliusstraße\n",
    "visualize_single_station_no_soll('ca41b63e-9046-442f-880e-d0e9186e507a', bike_type='all')\n",
    "\n",
    "# Holzmarkt / Asperger Str.\n",
    "visualize_single_station_no_soll('36fe6a30-d53e-4aa8-863d-e21e80fd1d0b', bike_type='all')\n",
    "\n",
    "# Arsenalplatz\n",
    "visualize_single_station_no_soll('7046d131-47fd-40bd-ba63-f52590d2ee8f', bike_type='all')\n",
    "\n",
    "# Ludwigsburg (Württemberg) ZOB\n",
    "visualize_single_station_no_soll('2263b695-db35-4bbf-b70a-032920fadf3f', bike_type='all')\n"
   ]
  },
  {
   "cell_type": "markdown",
   "metadata": {},
   "source": [
    "5. Visualisierung für alle Stationen mit Soll-Werten <br>\n",
    "Visualisieren der Verfügbarkeit der Fahrräder an allen Stationen über die Zeit mit Soll-Werten."
   ]
  },
  {
   "cell_type": "code",
   "execution_count": null,
   "metadata": {},
   "outputs": [],
   "source": [
    "def visualize_all_stations_with_soll(bike_type='all'):\n",
    "    plt.figure(figsize=(12, 8))\n",
    "    plt.gca().xaxis.set_major_formatter(mdates.DateFormatter('%d-%m-%Y %H:%M'))\n",
    "    plt.gca().xaxis.set_major_locator(mdates.AutoDateLocator())\n",
    "    plt.gcf().autofmt_xdate()\n",
    "    \n",
    "    for station_id in lubu_ids:\n",
    "        if station_id in station_data['station_id'].values:\n",
    "            filtered_data = station_data[station_data['station_id'] == station_id].to_dict('records')\n",
    "            \n",
    "            if bike_type == 'all':\n",
    "                counts = [entry['num_bikes_available'] for entry in filtered_data]\n",
    "                soll_value = soll_werte[soll_werte['station_id'] == station_id][['bike', 'pedelec', 'cargopedelec']].sum(axis=1).values[0]\n",
    "            else:\n",
    "                counts = extract_vehicle_count(filtered_data, bike_type)\n",
    "                soll_value = soll_werte[soll_werte['station_id'] == station_id][bike_type].values[0]\n",
    "            \n",
    "            plt.plot([entry['timestamp'] for entry in filtered_data], counts, label=id_to_name[station_id])\n",
    "            plt.axhline(y=soll_value, color='r', linestyle='--', label=f'Soll-Wert {id_to_name[station_id]}')\n",
    "    \n",
    "    plt.title('Verfügbare Fahrräder an allen Stationen über Zeit (mit Soll-Werten)')\n",
    "    plt.xlabel('Zeit')\n",
    "    plt.ylabel('Verfügbare Fahrräder')\n",
    "    plt.legend()\n",
    "    plt.tight_layout()\n",
    "    plt.show()\n",
    "\n",
    "# Aufruf zur Visualisierung für alle Stationen mit Soll-Werten\n",
    "visualize_all_stations_with_soll(bike_type='all')\n"
   ]
  },
  {
   "cell_type": "markdown",
   "metadata": {},
   "source": [
    "6. Visualisierung für eine einzelne Station mit Soll-Werten <br>\n",
    "Visualisieren der Verfügbarkeit der Fahrräder an einer einzelnen Station über die Zeit mit Soll-Werten."
   ]
  },
  {
   "cell_type": "code",
   "execution_count": null,
   "metadata": {},
   "outputs": [],
   "source": [
    "def visualize_single_station_with_soll(station_id_requested, bike_type='all'):\n",
    "    plt.figure(figsize=(12, 8))\n",
    "    plt.gca().xaxis.set_major_formatter(mdates.DateFormatter('%d-%m-%Y %H:%M'))\n",
    "    plt.gca().xaxis.set_major_locator(mdates.AutoDateLocator())\n",
    "    plt.gcf().autofmt_xdate()\n",
    "\n",
    "    if station_id_requested in lubu_ids and station_id_requested in station_data['station_id'].values:\n",
    "        filtered_data = station_data[station_data['station_id'] == station_id_requested].to_dict('records')\n",
    "        \n",
    "        if bike_type == 'all':\n",
    "            counts = [entry['num_bikes_available'] for entry in filtered_data]\n",
    "            # Summe der Soll-Werte für alle Fahrzeugtypen\n",
    "            soll_value = soll_werte[soll_werte['station_id'] == station_id_requested][['bike', 'pedelec', 'cargopedelec']].sum(axis=1).values[0]\n",
    "        else:\n",
    "            counts = extract_vehicle_count(filtered_data, bike_type)\n",
    "            # Soll-Wert für den spezifischen Fahrzeugtyp\n",
    "            soll_value = soll_werte[soll_werte['station_id'] == station_id_requested][bike_type].values[0]\n",
    "        \n",
    "        plt.plot([entry['timestamp'] for entry in filtered_data], counts, label=id_to_name[station_id_requested])\n",
    "        plt.axhline(y=soll_value, color='r', linestyle='--', label=f'Soll-Wert {id_to_name[station_id_requested]}')\n",
    "        \n",
    "        plt.title(f'Verfügbare Fahrräder an Station {id_to_name[station_id_requested]} über Zeit (mit Soll-Werten)')\n",
    "        plt.xlabel('Zeit')\n",
    "        plt.ylabel('Verfügbare Fahrräder')\n",
    "        plt.legend()\n",
    "        plt.tight_layout()\n",
    "        plt.show()\n",
    "    else:\n",
    "        print(f\"Keine Daten für Station ID {station_id_requested} gefunden.\")"
   ]
  },
  {
   "cell_type": "code",
   "execution_count": null,
   "metadata": {},
   "outputs": [],
   "source": [
    "# Reuteallee / S-Bahnstation Favoritepark\n",
    "visualize_single_station_with_soll('958219cd-8009-45b6-8a04-1cc4ae763307', bike_type='all')\n",
    "\n",
    "# Grönerstr. / Schlieffenstr.\n",
    "visualize_single_station_with_soll('714932fd-4836-4a2a-9a19-07a6d694274c', bike_type='all')\n",
    "\n",
    "# Kaiserstraße / Otto-Hahn-Gymnasium\n",
    "visualize_single_station_with_soll('be796eb3-49af-494c-b3f0-dc1f0132eb7d', bike_type='all')\n",
    "\n",
    "# Bahnhof Ludwigsburg / Brenzstr.\n",
    "visualize_single_station_with_soll('c070e40c-98f6-45d6-9543-90ceceef63af', bike_type='all')\n",
    "\n",
    "# Bahnhof. Ludwigsburg / Myliusstraße\n",
    "visualize_single_station_with_soll('ca41b63e-9046-442f-880e-d0e9186e507a', bike_type='all')\n",
    "\n",
    "# Holzmarkt / Asperger Str.\n",
    "visualize_single_station_with_soll('36fe6a30-d53e-4aa8-863d-e21e80fd1d0b', bike_type='all')\n",
    "\n",
    "# Arsenalplatz\n",
    "visualize_single_station_with_soll('7046d131-47fd-40bd-ba63-f52590d2ee8f', bike_type='all')\n",
    "\n",
    "# Ludwigsburg (Württemberg) ZOB\n",
    "visualize_single_station_with_soll('2263b695-db35-4bbf-b70a-032920fadf3f', bike_type='all')\n"
   ]
  }
 ],
 "metadata": {
  "kernelspec": {
   "display_name": "Python 3",
   "language": "python",
   "name": "python3"
  },
  "language_info": {
   "codemirror_mode": {
    "name": "ipython",
    "version": 3
   },
   "file_extension": ".py",
   "mimetype": "text/x-python",
   "name": "python",
   "nbconvert_exporter": "python",
   "pygments_lexer": "ipython3",
   "version": "3.11.9"
  }
 },
 "nbformat": 4,
 "nbformat_minor": 2
}
